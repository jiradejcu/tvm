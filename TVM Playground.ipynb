{
 "cells": [
  {
   "cell_type": "code",
   "execution_count": null,
   "id": "12bd7ba7",
   "metadata": {},
   "outputs": [],
   "source": [
    "from tvm.driver import tvmc"
   ]
  },
  {
   "cell_type": "code",
   "execution_count": null,
   "id": "581678ef",
   "metadata": {},
   "outputs": [],
   "source": [
    "model = tvmc.load('my_model.onnx') #Step 1: Load"
   ]
  },
  {
   "cell_type": "code",
   "execution_count": null,
   "id": "875a6b95",
   "metadata": {},
   "outputs": [],
   "source": [
    "log_file = \"tuning_log.json\"\n",
    "tvmc.tune(model, target=\"cuda\", tuning_records=log_file) #Step 1.5: Optional Tune"
   ]
  },
  {
   "cell_type": "code",
   "execution_count": null,
   "id": "985c95d3",
   "metadata": {},
   "outputs": [],
   "source": [
    "package = tvmc.compile(model, target=\"cuda\", package_path='my_optimized_model.onnx') #Step 2: Compile"
   ]
  },
  {
   "cell_type": "code",
   "execution_count": null,
   "id": "6c72cb67",
   "metadata": {},
   "outputs": [],
   "source": [
    "result = tvmc.run(package, device=\"cuda\") #Step 3: Run"
   ]
  },
  {
   "cell_type": "code",
   "execution_count": null,
   "id": "464b4f0d",
   "metadata": {},
   "outputs": [],
   "source": [
    "print(result)"
   ]
  },
  {
   "cell_type": "code",
   "execution_count": null,
   "id": "54fbacfa",
   "metadata": {},
   "outputs": [],
   "source": []
  }
 ],
 "metadata": {
  "kernelspec": {
   "display_name": "Python 3 (ipykernel)",
   "language": "python",
   "name": "python3"
  },
  "language_info": {
   "codemirror_mode": {
    "name": "ipython",
    "version": 3
   },
   "file_extension": ".py",
   "mimetype": "text/x-python",
   "name": "python",
   "nbconvert_exporter": "python",
   "pygments_lexer": "ipython3",
   "version": "3.7.5"
  }
 },
 "nbformat": 4,
 "nbformat_minor": 5
}
